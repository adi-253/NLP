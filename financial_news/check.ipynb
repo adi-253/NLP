{
 "cells": [
  {
   "cell_type": "code",
   "execution_count": 1,
   "metadata": {},
   "outputs": [],
   "source": [
    "import pandas as pd\n",
    "import numpy as np"
   ]
  },
  {
   "cell_type": "code",
   "execution_count": 27,
   "metadata": {},
   "outputs": [],
   "source": [
    "df=pd.read_csv(\"RELIANCE.csv\")"
   ]
  },
  {
   "cell_type": "code",
   "execution_count": 3,
   "metadata": {},
   "outputs": [
    {
     "data": {
      "text/html": [
       "<div>\n",
       "<style scoped>\n",
       "    .dataframe tbody tr th:only-of-type {\n",
       "        vertical-align: middle;\n",
       "    }\n",
       "\n",
       "    .dataframe tbody tr th {\n",
       "        vertical-align: top;\n",
       "    }\n",
       "\n",
       "    .dataframe thead th {\n",
       "        text-align: right;\n",
       "    }\n",
       "</style>\n",
       "<table border=\"1\" class=\"dataframe\">\n",
       "  <thead>\n",
       "    <tr style=\"text-align: right;\">\n",
       "      <th></th>\n",
       "      <th>title</th>\n",
       "      <th>feed_type</th>\n",
       "      <th>link</th>\n",
       "      <th>description</th>\n",
       "      <th>date</th>\n",
       "      <th>image</th>\n",
       "      <th>publisher</th>\n",
       "      <th>stocks</th>\n",
       "      <th>_id</th>\n",
       "    </tr>\n",
       "  </thead>\n",
       "  <tbody>\n",
       "    <tr>\n",
       "      <th>0</th>\n",
       "      <td>Reliance Industries, Tata Communications Share...</td>\n",
       "      <td>news-article</td>\n",
       "      <td>https://www.bqprime.com/markets/reliance-indus...</td>\n",
       "      <td>The U.S.-based chipmaker has tied up with the ...</td>\n",
       "      <td>2023-09-11 11:36:23.000</td>\n",
       "      <td>https://pocket-image-cache.com/direct?url=http...</td>\n",
       "      <td>{'logo': 'https://assets.tickertape.in/images/...</td>\n",
       "      <td>[{'sid': 'RELI'}, {'sid': 'TATA'}]</td>\n",
       "      <td>64feaea6855b95bc11794886</td>\n",
       "    </tr>\n",
       "    <tr>\n",
       "      <th>1</th>\n",
       "      <td>Reliance Industries Donates Rs 25 Crore to Utt...</td>\n",
       "      <td>news-article</td>\n",
       "      <td>https://www.news18.com/india/reliance-industri...</td>\n",
       "      <td>Anant Ambani made the donation on behalf of th...</td>\n",
       "      <td>2023-09-09 18:28:42.000</td>\n",
       "      <td>https://pocket-image-cache.com/direct?url=http...</td>\n",
       "      <td>{'logo': 'https://assets.tickertape.in/images/...</td>\n",
       "      <td>[{'sid': 'RELI'}]</td>\n",
       "      <td>64fc27f741042058c3af8377</td>\n",
       "    </tr>\n",
       "    <tr>\n",
       "      <th>2</th>\n",
       "      <td>Nvidia to Partner With India’s Tata and Relian...</td>\n",
       "      <td>news-article</td>\n",
       "      <td>https://www.bqprime.com/business/nvidia-to-par...</td>\n",
       "      <td>Nvidia Corp. plans to partner with the Tata Gr...</td>\n",
       "      <td>2023-09-08 20:27:12.000</td>\n",
       "      <td>https://pocket-image-cache.com/direct?url=http...</td>\n",
       "      <td>{'logo': 'https://assets.tickertape.in/images/...</td>\n",
       "      <td>[{'sid': 'RELI'}]</td>\n",
       "      <td>64fb38b541042058c3af82c7</td>\n",
       "    </tr>\n",
       "    <tr>\n",
       "      <th>3</th>\n",
       "      <td>India’s Reliance Explores Chipmaking Foray, Ta...</td>\n",
       "      <td>news-article</td>\n",
       "      <td>https://www.news18.com/business/indias-relianc...</td>\n",
       "      <td>Billionaire Mukesh Ambani’s Reliance Industrie...</td>\n",
       "      <td>2023-09-08 15:36:50.000</td>\n",
       "      <td>https://pocket-image-cache.com/direct?url=http...</td>\n",
       "      <td>{'logo': 'https://assets.tickertape.in/images/...</td>\n",
       "      <td>[{'sid': 'RELI'}]</td>\n",
       "      <td>64faf9a841042058c3af823e</td>\n",
       "    </tr>\n",
       "    <tr>\n",
       "      <th>4</th>\n",
       "      <td>Kotak Mahindra AMC’s Nilesh Shah says he is no...</td>\n",
       "      <td>news-article</td>\n",
       "      <td>https://www.businesstoday.in/mutual-funds/stor...</td>\n",
       "      <td>In July, Jio Financial Services Ltd, the demer...</td>\n",
       "      <td>2023-09-06 17:30:00.000</td>\n",
       "      <td>https://pocket-image-cache.com/direct?url=http...</td>\n",
       "      <td>{'logo': 'https://assets.tickertape.in/images/...</td>\n",
       "      <td>[{'sid': 'RELI'}]</td>\n",
       "      <td>64f82851b5046bd8549963d7</td>\n",
       "    </tr>\n",
       "  </tbody>\n",
       "</table>\n",
       "</div>"
      ],
      "text/plain": [
       "                                               title     feed_type  \\\n",
       "0  Reliance Industries, Tata Communications Share...  news-article   \n",
       "1  Reliance Industries Donates Rs 25 Crore to Utt...  news-article   \n",
       "2  Nvidia to Partner With India’s Tata and Relian...  news-article   \n",
       "3  India’s Reliance Explores Chipmaking Foray, Ta...  news-article   \n",
       "4  Kotak Mahindra AMC’s Nilesh Shah says he is no...  news-article   \n",
       "\n",
       "                                                link  \\\n",
       "0  https://www.bqprime.com/markets/reliance-indus...   \n",
       "1  https://www.news18.com/india/reliance-industri...   \n",
       "2  https://www.bqprime.com/business/nvidia-to-par...   \n",
       "3  https://www.news18.com/business/indias-relianc...   \n",
       "4  https://www.businesstoday.in/mutual-funds/stor...   \n",
       "\n",
       "                                         description                     date  \\\n",
       "0  The U.S.-based chipmaker has tied up with the ...  2023-09-11 11:36:23.000   \n",
       "1  Anant Ambani made the donation on behalf of th...  2023-09-09 18:28:42.000   \n",
       "2  Nvidia Corp. plans to partner with the Tata Gr...  2023-09-08 20:27:12.000   \n",
       "3  Billionaire Mukesh Ambani’s Reliance Industrie...  2023-09-08 15:36:50.000   \n",
       "4  In July, Jio Financial Services Ltd, the demer...  2023-09-06 17:30:00.000   \n",
       "\n",
       "                                               image  \\\n",
       "0  https://pocket-image-cache.com/direct?url=http...   \n",
       "1  https://pocket-image-cache.com/direct?url=http...   \n",
       "2  https://pocket-image-cache.com/direct?url=http...   \n",
       "3  https://pocket-image-cache.com/direct?url=http...   \n",
       "4  https://pocket-image-cache.com/direct?url=http...   \n",
       "\n",
       "                                           publisher  \\\n",
       "0  {'logo': 'https://assets.tickertape.in/images/...   \n",
       "1  {'logo': 'https://assets.tickertape.in/images/...   \n",
       "2  {'logo': 'https://assets.tickertape.in/images/...   \n",
       "3  {'logo': 'https://assets.tickertape.in/images/...   \n",
       "4  {'logo': 'https://assets.tickertape.in/images/...   \n",
       "\n",
       "                               stocks                       _id  \n",
       "0  [{'sid': 'RELI'}, {'sid': 'TATA'}]  64feaea6855b95bc11794886  \n",
       "1                   [{'sid': 'RELI'}]  64fc27f741042058c3af8377  \n",
       "2                   [{'sid': 'RELI'}]  64fb38b541042058c3af82c7  \n",
       "3                   [{'sid': 'RELI'}]  64faf9a841042058c3af823e  \n",
       "4                   [{'sid': 'RELI'}]  64f82851b5046bd8549963d7  "
      ]
     },
     "execution_count": 3,
     "metadata": {},
     "output_type": "execute_result"
    }
   ],
   "source": [
    "df.head()"
   ]
  },
  {
   "cell_type": "code",
   "execution_count": 4,
   "metadata": {},
   "outputs": [
    {
     "data": {
      "text/plain": [
       "6654"
      ]
     },
     "execution_count": 4,
     "metadata": {},
     "output_type": "execute_result"
    }
   ],
   "source": [
    "len(df)"
   ]
  },
  {
   "cell_type": "code",
   "execution_count": 7,
   "metadata": {},
   "outputs": [
    {
     "data": {
      "text/plain": [
       "str"
      ]
     },
     "execution_count": 7,
     "metadata": {},
     "output_type": "execute_result"
    }
   ],
   "source": []
  },
  {
   "cell_type": "code",
   "execution_count": 8,
   "metadata": {},
   "outputs": [
    {
     "data": {
      "text/plain": [
       "Index(['title', 'feed_type', 'link', 'description', 'date', 'image',\n",
       "       'publisher', 'stocks', '_id'],\n",
       "      dtype='object')"
      ]
     },
     "execution_count": 8,
     "metadata": {},
     "output_type": "execute_result"
    }
   ],
   "source": [
    "df.columns"
   ]
  },
  {
   "cell_type": "code",
   "execution_count": 28,
   "metadata": {},
   "outputs": [
    {
     "name": "stdout",
     "output_type": "stream",
     "text": [
      "            date                                              title  \\\n",
      "0     2017-12-18  Reliance Jio in talks with multiple developers...   \n",
      "1     2017-12-23  India’s m-cap crosses Rs 150 lakh crore for fi...   \n",
      "2     2017-12-24  Reliance Industries To Be Among Top 20 Global ...   \n",
      "3     2017-12-25  Reliance Industries plans to be among top 20 g...   \n",
      "4     2018-01-02  All you wanted to know about MPS rule | China’...   \n",
      "...          ...                                                ...   \n",
      "1566  2023-09-01  Stocks To Watch: Reliance Industries, Jio, LIC...   \n",
      "1567  2023-09-06  Kotak Mahindra AMC’s Nilesh Shah says he is no...   \n",
      "1568  2023-09-08  Nvidia to Partner With India’s Tata and Relian...   \n",
      "1569  2023-09-09  Reliance Industries Donates Rs 25 Crore to Utt...   \n",
      "1570  2023-09-11  Reliance Industries, Tata Communications Share...   \n",
      "\n",
      "                        feed_type  \\\n",
      "0                    news-article   \n",
      "1     news-article | news-article   \n",
      "2     news-article | news-article   \n",
      "3                    news-article   \n",
      "4     news-article | news-article   \n",
      "...                           ...   \n",
      "1566                 news-article   \n",
      "1567                 news-article   \n",
      "1568  news-article | news-article   \n",
      "1569                 news-article   \n",
      "1570                 news-article   \n",
      "\n",
      "                                                   link  \\\n",
      "0     http://www.livemint.com/Companies/ODzf9j87HXWD...   \n",
      "1     https://economictimes.indiatimes.com/markets/s...   \n",
      "2     https://www.bloombergquint.com/business/2017/1...   \n",
      "3     http://www.business-standard.com/article/compa...   \n",
      "4     http://www.thehindubusinessline.com/opinion/co...   \n",
      "...                                                 ...   \n",
      "1566  https://www.bqprime.com/business/stocks-to-wat...   \n",
      "1567  https://www.businesstoday.in/mutual-funds/stor...   \n",
      "1568  https://www.bqprime.com/business/nvidia-to-par...   \n",
      "1569  https://www.news18.com/india/reliance-industri...   \n",
      "1570  https://www.bqprime.com/markets/reliance-indus...   \n",
      "\n",
      "                                            description  \\\n",
      "0     So far, Reliance Industries has Hotstar and Ro...   \n",
      "1     The rally in the countrys most valuable compan...   \n",
      "2     Mukesh Ambani sets out five aims for Reliance ...   \n",
      "3     Mukesh Ambani set five aims for the company an...   \n",
      "4     The latest deal between the estranged Ambani b...   \n",
      "...                                                 ...   \n",
      "1566  Here are the stocks to watch before going into...   \n",
      "1567  In July, Jio Financial Services Ltd, the demer...   \n",
      "1568  Nvidia Corp. plans to partner with the Tata Gr...   \n",
      "1569  Anant Ambani made the donation on behalf of th...   \n",
      "1570  The U.S.-based chipmaker has tied up with the ...   \n",
      "\n",
      "                                                  image  \\\n",
      "0     https://pocket-image-cache.com/direct?url=http...   \n",
      "1     https://pocket-image-cache.com/direct?url=http...   \n",
      "2     https://pocket-image-cache.com/direct?url=http...   \n",
      "3     https://pocket-image-cache.com/direct?url=http...   \n",
      "4     https://pocket-image-cache.com/direct?url=http...   \n",
      "...                                                 ...   \n",
      "1566  https://pocket-image-cache.com/direct?url=http...   \n",
      "1567  https://pocket-image-cache.com/direct?url=http...   \n",
      "1568  https://pocket-image-cache.com/direct?url=http...   \n",
      "1569  https://pocket-image-cache.com/direct?url=http...   \n",
      "1570  https://pocket-image-cache.com/direct?url=http...   \n",
      "\n",
      "                                              publisher  \\\n",
      "0     {'logo': 'https://www.smallcase.com/images/new...   \n",
      "1     {'logo': 'https://www.smallcase.com/images/new...   \n",
      "2     {'logo': 'https://www.smallcase.com/images/new...   \n",
      "3     {'logo': 'https://www.smallcase.com/images/new...   \n",
      "4     {'logo': 'https://www.smallcase.com/images/new...   \n",
      "...                                                 ...   \n",
      "1566  {'logo': 'https://assets.tickertape.in/images/...   \n",
      "1567  {'logo': 'https://assets.tickertape.in/images/...   \n",
      "1568  {'logo': 'https://assets.tickertape.in/images/...   \n",
      "1569  {'logo': 'https://assets.tickertape.in/images/...   \n",
      "1570  {'logo': 'https://assets.tickertape.in/images/...   \n",
      "\n",
      "                                                 stocks  \\\n",
      "0             [{'sid': 'RELI', 'initialPrice': 919.75}]   \n",
      "1     [{'sid': 'RELI', 'initialPrice': 912.95}] | [{...   \n",
      "2     [{'sid': 'RELI', 'initialPrice': 912.95}] | [{...   \n",
      "3             [{'sid': 'RELI', 'initialPrice': 912.95}]   \n",
      "4     [{'sid': 'RELI', 'initialPrice': 909.75}] | [{...   \n",
      "...                                                 ...   \n",
      "1566  [{'sid': 'GLAX'}, {'sid': 'PNBK'}, {'sid': 'RE...   \n",
      "1567                                  [{'sid': 'RELI'}]   \n",
      "1568              [{'sid': 'RELI'}] | [{'sid': 'RELI'}]   \n",
      "1569                                  [{'sid': 'RELI'}]   \n",
      "1570                 [{'sid': 'RELI'}, {'sid': 'TATA'}]   \n",
      "\n",
      "                                                    _id  \n",
      "0                            [5a376f051ab21d271c6a6a3a]  \n",
      "1     [5a3e065f31a5b859ecb92d56, 5a3e063031a5b859ecb...  \n",
      "2     [5a3f9e65433ccd768980dfef, 5a3f57ab9d934c70c5f...  \n",
      "3                            [5a40a939e8e6ce08cd26a6b6]  \n",
      "4     [5a4b3611adad9306d62adb04, 5a4b35a2adad9306d62...  \n",
      "...                                                 ...  \n",
      "1566                         [64f125dc9ac9f6751594df13]  \n",
      "1567                         [64f82851b5046bd8549963d7]  \n",
      "1568  [64fb38b541042058c3af82c7, 64faf9a841042058c3a...  \n",
      "1569                         [64fc27f741042058c3af8377]  \n",
      "1570                         [64feaea6855b95bc11794886]  \n",
      "\n",
      "[1571 rows x 9 columns]\n"
     ]
    }
   ],
   "source": [
    "df['date'] = pd.to_datetime(df['date']).dt.date\n",
    "\n",
    "# Step 2: Define a safe join function that handles non-string values\n",
    "def safe_join(series):\n",
    "    return ' | '.join(series.dropna().astype(str))\n",
    "\n",
    "# Step 3: Group by 'date' and concatenate text columns\n",
    "grouped_df = df.groupby('date').agg({\n",
    "    'title': safe_join,         # Concatenate titles with separator\n",
    "    'feed_type': safe_join,     # Concatenate feed_type with separator\n",
    "    'link': safe_join,          # Concatenate links\n",
    "    'description': safe_join,   # Concatenate descriptions\n",
    "    'image': 'first',           # Take the first image (or handle as needed)\n",
    "    'publisher': safe_join,     # Concatenate publishers\n",
    "    'stocks': safe_join,        # Concatenate stocks\n",
    "    '_id': list                 # Keep _id as a list (if needed)\n",
    "}).reset_index()\n",
    "\n",
    "# View the result\n",
    "print(grouped_df)"
   ]
  },
  {
   "cell_type": "code",
   "execution_count": 30,
   "metadata": {},
   "outputs": [],
   "source": [
    "grouped_df=grouped_df.reset_index()"
   ]
  },
  {
   "cell_type": "code",
   "execution_count": 44,
   "metadata": {},
   "outputs": [
    {
     "data": {
      "text/plain": [
       "['RIL chairman Mukesh Ambani says the world’s first ROGC and downstream plants marks a paradigm shift in the profitability and sustainability of RIL’s petrochemicals business']"
      ]
     },
     "execution_count": 44,
     "metadata": {},
     "output_type": "execute_result"
    }
   ],
   "source": [
    "grouped_df.loc[5,\"description\"].split(\" | \")"
   ]
  },
  {
   "cell_type": "code",
   "execution_count": 45,
   "metadata": {},
   "outputs": [],
   "source": [
    "grouped_df.to_csv(\"RELIANCE_grouped.csv\",index=False)"
   ]
  },
  {
   "cell_type": "code",
   "execution_count": 46,
   "metadata": {},
   "outputs": [],
   "source": [
    "df=pd.read_csv(\"APOLLOHOSP.csv\")"
   ]
  },
  {
   "cell_type": "code",
   "execution_count": 48,
   "metadata": {},
   "outputs": [
    {
     "data": {
      "text/html": [
       "<div>\n",
       "<style scoped>\n",
       "    .dataframe tbody tr th:only-of-type {\n",
       "        vertical-align: middle;\n",
       "    }\n",
       "\n",
       "    .dataframe tbody tr th {\n",
       "        vertical-align: top;\n",
       "    }\n",
       "\n",
       "    .dataframe thead th {\n",
       "        text-align: right;\n",
       "    }\n",
       "</style>\n",
       "<table border=\"1\" class=\"dataframe\">\n",
       "  <thead>\n",
       "    <tr style=\"text-align: right;\">\n",
       "      <th></th>\n",
       "      <th>title</th>\n",
       "      <th>feed_type</th>\n",
       "      <th>link</th>\n",
       "      <th>description</th>\n",
       "      <th>date</th>\n",
       "      <th>image</th>\n",
       "      <th>publisher</th>\n",
       "      <th>stocks</th>\n",
       "      <th>_id</th>\n",
       "    </tr>\n",
       "  </thead>\n",
       "  <tbody>\n",
       "    <tr>\n",
       "      <th>0</th>\n",
       "      <td>F&amp;O Strategy: Apollo Hospitals: Calendar Bear ...</td>\n",
       "      <td>news-article</td>\n",
       "      <td>https://www.thehindubusinessline.com/portfolio...</td>\n",
       "      <td>Apollo Hospital Enterprise’s stock (₹4,865.5) ...</td>\n",
       "      <td>2023-08-26 19:11:57.000</td>\n",
       "      <td>https://pocket-image-cache.com/direct?url=http...</td>\n",
       "      <td>{'logo': 'https://assets.tickertape.in/images/...</td>\n",
       "      <td>[{'sid': 'APLH'}]</td>\n",
       "      <td>64ea04d6ef976d312471e506</td>\n",
       "    </tr>\n",
       "    <tr>\n",
       "      <th>1</th>\n",
       "      <td>Buy Apollo Hospitals; target of Rs 5700: Motil...</td>\n",
       "      <td>news-article</td>\n",
       "      <td>https://www.moneycontrol.com/news/business/sto...</td>\n",
       "      <td>Motilal Oswal is bullish on Apollo Hospitals r...</td>\n",
       "      <td>2023-08-23 14:20:57.000</td>\n",
       "      <td>https://pocket-image-cache.com/direct?url=http...</td>\n",
       "      <td>{'logo': 'https://assets.tickertape.in/images/...</td>\n",
       "      <td>[{'sid': 'APLH'}, {'sid': 'MOFS'}]</td>\n",
       "      <td>64e5cd12ef976d312471cd07</td>\n",
       "    </tr>\n",
       "    <tr>\n",
       "      <th>2</th>\n",
       "      <td>Navi Mumbai: Apollo Hospitals Conduct 533 Orga...</td>\n",
       "      <td>news-article</td>\n",
       "      <td>https://www.freepressjournal.in/mumbai/navi-mu...</td>\n",
       "      <td>Apollo’s solid organ transplant program includ...</td>\n",
       "      <td>2023-08-22 10:33:39.000</td>\n",
       "      <td>https://pocket-image-cache.com/direct?url=http...</td>\n",
       "      <td>{'logo': 'https://assets.tickertape.in/images/...</td>\n",
       "      <td>[{'sid': 'APLH'}]</td>\n",
       "      <td>64e4426fef976d312471c27a</td>\n",
       "    </tr>\n",
       "    <tr>\n",
       "      <th>3</th>\n",
       "      <td>Apollo Hospitals to add about 600 pharmacy sto...</td>\n",
       "      <td>news-article</td>\n",
       "      <td>https://www.thehindubusinessline.com/news/apol...</td>\n",
       "      <td>Apollo Hospitals will add 500-600 offline phar...</td>\n",
       "      <td>2023-08-18 21:27:48.000</td>\n",
       "      <td>https://pocket-image-cache.com/direct?url=http...</td>\n",
       "      <td>{'logo': 'https://assets.tickertape.in/images/...</td>\n",
       "      <td>[{'sid': 'APLH'}]</td>\n",
       "      <td>64df8e9bfe5e5e5b7f9760fc</td>\n",
       "    </tr>\n",
       "    <tr>\n",
       "      <th>4</th>\n",
       "      <td>Hold Apollo Hospitals Enterprise; target of Rs...</td>\n",
       "      <td>news-article</td>\n",
       "      <td>https://www.moneycontrol.com/news/business/sto...</td>\n",
       "      <td>ICICI Securities recommended hold rating on Ap...</td>\n",
       "      <td>2023-08-18 10:39:55.000</td>\n",
       "      <td>https://pocket-image-cache.com/direct?url=http...</td>\n",
       "      <td>{'logo': 'https://assets.tickertape.in/images/...</td>\n",
       "      <td>[{'sid': 'APLH'}, {'sid': 'ICCI'}]</td>\n",
       "      <td>64df0457fe5e5e5b7f975c34</td>\n",
       "    </tr>\n",
       "  </tbody>\n",
       "</table>\n",
       "</div>"
      ],
      "text/plain": [
       "                                               title     feed_type  \\\n",
       "0  F&O Strategy: Apollo Hospitals: Calendar Bear ...  news-article   \n",
       "1  Buy Apollo Hospitals; target of Rs 5700: Motil...  news-article   \n",
       "2  Navi Mumbai: Apollo Hospitals Conduct 533 Orga...  news-article   \n",
       "3  Apollo Hospitals to add about 600 pharmacy sto...  news-article   \n",
       "4  Hold Apollo Hospitals Enterprise; target of Rs...  news-article   \n",
       "\n",
       "                                                link  \\\n",
       "0  https://www.thehindubusinessline.com/portfolio...   \n",
       "1  https://www.moneycontrol.com/news/business/sto...   \n",
       "2  https://www.freepressjournal.in/mumbai/navi-mu...   \n",
       "3  https://www.thehindubusinessline.com/news/apol...   \n",
       "4  https://www.moneycontrol.com/news/business/sto...   \n",
       "\n",
       "                                         description                     date  \\\n",
       "0  Apollo Hospital Enterprise’s stock (₹4,865.5) ...  2023-08-26 19:11:57.000   \n",
       "1  Motilal Oswal is bullish on Apollo Hospitals r...  2023-08-23 14:20:57.000   \n",
       "2  Apollo’s solid organ transplant program includ...  2023-08-22 10:33:39.000   \n",
       "3  Apollo Hospitals will add 500-600 offline phar...  2023-08-18 21:27:48.000   \n",
       "4  ICICI Securities recommended hold rating on Ap...  2023-08-18 10:39:55.000   \n",
       "\n",
       "                                               image  \\\n",
       "0  https://pocket-image-cache.com/direct?url=http...   \n",
       "1  https://pocket-image-cache.com/direct?url=http...   \n",
       "2  https://pocket-image-cache.com/direct?url=http...   \n",
       "3  https://pocket-image-cache.com/direct?url=http...   \n",
       "4  https://pocket-image-cache.com/direct?url=http...   \n",
       "\n",
       "                                           publisher  \\\n",
       "0  {'logo': 'https://assets.tickertape.in/images/...   \n",
       "1  {'logo': 'https://assets.tickertape.in/images/...   \n",
       "2  {'logo': 'https://assets.tickertape.in/images/...   \n",
       "3  {'logo': 'https://assets.tickertape.in/images/...   \n",
       "4  {'logo': 'https://assets.tickertape.in/images/...   \n",
       "\n",
       "                               stocks                       _id  \n",
       "0                   [{'sid': 'APLH'}]  64ea04d6ef976d312471e506  \n",
       "1  [{'sid': 'APLH'}, {'sid': 'MOFS'}]  64e5cd12ef976d312471cd07  \n",
       "2                   [{'sid': 'APLH'}]  64e4426fef976d312471c27a  \n",
       "3                   [{'sid': 'APLH'}]  64df8e9bfe5e5e5b7f9760fc  \n",
       "4  [{'sid': 'APLH'}, {'sid': 'ICCI'}]  64df0457fe5e5e5b7f975c34  "
      ]
     },
     "execution_count": 48,
     "metadata": {},
     "output_type": "execute_result"
    }
   ],
   "source": [
    "df.head()"
   ]
  },
  {
   "cell_type": "code",
   "execution_count": 49,
   "metadata": {},
   "outputs": [
    {
     "data": {
      "text/plain": [
       "962"
      ]
     },
     "execution_count": 49,
     "metadata": {},
     "output_type": "execute_result"
    }
   ],
   "source": [
    "len(df)"
   ]
  },
  {
   "cell_type": "code",
   "execution_count": 50,
   "metadata": {},
   "outputs": [],
   "source": [
    "df['date'] = pd.to_datetime(df['date']).dt.date\n",
    "\n",
    "# Step 2: Define a safe join function that handles non-string values\n",
    "def safe_join(series):\n",
    "    return ' | '.join(series.dropna().astype(str))\n",
    "\n",
    "# Step 3: Group by 'date' and concatenate text columns\n",
    "grouped_df = df.groupby('date').agg({\n",
    "    'title': safe_join,         # Concatenate titles with separator\n",
    "    'feed_type': safe_join,     # Concatenate feed_type with separator\n",
    "    'link': safe_join,          # Concatenate links\n",
    "    'description': safe_join,   # Concatenate descriptions\n",
    "    'image': 'first',           # Take the first image (or handle as needed)\n",
    "    'publisher': safe_join,     # Concatenate publishers\n",
    "    'stocks': safe_join,        # Concatenate stocks\n",
    "    '_id': list                 # Keep _id as a list (if needed)\n",
    "}).reset_index()\n"
   ]
  },
  {
   "cell_type": "code",
   "execution_count": 51,
   "metadata": {},
   "outputs": [
    {
     "data": {
      "text/html": [
       "<div>\n",
       "<style scoped>\n",
       "    .dataframe tbody tr th:only-of-type {\n",
       "        vertical-align: middle;\n",
       "    }\n",
       "\n",
       "    .dataframe tbody tr th {\n",
       "        vertical-align: top;\n",
       "    }\n",
       "\n",
       "    .dataframe thead th {\n",
       "        text-align: right;\n",
       "    }\n",
       "</style>\n",
       "<table border=\"1\" class=\"dataframe\">\n",
       "  <thead>\n",
       "    <tr style=\"text-align: right;\">\n",
       "      <th></th>\n",
       "      <th>date</th>\n",
       "      <th>title</th>\n",
       "      <th>feed_type</th>\n",
       "      <th>link</th>\n",
       "      <th>description</th>\n",
       "      <th>image</th>\n",
       "      <th>publisher</th>\n",
       "      <th>stocks</th>\n",
       "      <th>_id</th>\n",
       "    </tr>\n",
       "  </thead>\n",
       "  <tbody>\n",
       "    <tr>\n",
       "      <th>0</th>\n",
       "      <td>2018-02-01</td>\n",
       "      <td>Budget 2018: Have the headroom to reduce corpo...</td>\n",
       "      <td>news-article</td>\n",
       "      <td>http://www.moneycontrol.com/news/business/econ...</td>\n",
       "      <td>In an interview with CNBC-TV18, Shobana Kamine...</td>\n",
       "      <td>https://pocket-image-cache.com/direct?url=http...</td>\n",
       "      <td>{'logo': 'https://www.smallcase.com/images/new...</td>\n",
       "      <td>[{'sid': 'APLH', 'initialPrice': 1162.8}, {'si...</td>\n",
       "      <td>[5a72c2219943eb6e6035d4d7]</td>\n",
       "    </tr>\n",
       "    <tr>\n",
       "      <th>1</th>\n",
       "      <td>2018-02-15</td>\n",
       "      <td>Apollo Hospitals Q3 net down 7.40 %</td>\n",
       "      <td>news-article</td>\n",
       "      <td>https://www.thehindubusinessline.com/companies...</td>\n",
       "      <td>Apollo Hospitals Enterprise today reported a 7...</td>\n",
       "      <td>https://pocket-image-cache.com/direct?url=http...</td>\n",
       "      <td>{'logo': 'https://www.smallcase.com/images/new...</td>\n",
       "      <td>[{'sid': 'APLH', 'initialPrice': 1191.8}]</td>\n",
       "      <td>[5a853724824da4795f24f1be]</td>\n",
       "    </tr>\n",
       "    <tr>\n",
       "      <th>2</th>\n",
       "      <td>2018-06-06</td>\n",
       "      <td>Hold  Apollo Hospitals Enterprise, target Rs  ...</td>\n",
       "      <td>news-article</td>\n",
       "      <td>https://economictimes.indiatimes.com/markets/s...</td>\n",
       "      <td>Hold  Apollo Hospitals Enterprise Ltd.  at a p...</td>\n",
       "      <td>https://pocket-image-cache.com/direct?url=http...</td>\n",
       "      <td>{'logo': 'https://www.smallcase.com/images/new...</td>\n",
       "      <td>[{'sid': 'APLH', 'initialPrice': 939.8}]</td>\n",
       "      <td>[5b1763f65d4e3c6a8fd6c9d3]</td>\n",
       "    </tr>\n",
       "    <tr>\n",
       "      <th>3</th>\n",
       "      <td>2018-07-06</td>\n",
       "      <td>Apollo acquires 50% stake in Lucknow’s Medics ...</td>\n",
       "      <td>news-article</td>\n",
       "      <td>https://www.thehindubusinessline.com/news/apol...</td>\n",
       "      <td>Apollo Hospitals Enterprise Ltd has acquired a...</td>\n",
       "      <td>https://pocket-image-cache.com/direct?url=http...</td>\n",
       "      <td>{'logo': 'https://www.smallcase.com/images/new...</td>\n",
       "      <td>[{'sid': 'APLH', 'initialPrice': 1048.15}]</td>\n",
       "      <td>[5b3ef070c2ec3731b613fee6]</td>\n",
       "    </tr>\n",
       "    <tr>\n",
       "      <th>4</th>\n",
       "      <td>2018-09-18</td>\n",
       "      <td>Apollo Hospitals celebrates 35th anniversary</td>\n",
       "      <td>news-article</td>\n",
       "      <td>https://www.thehindubusinessline.com/companies...</td>\n",
       "      <td>Apollo Hospitals Chennai, a flagship of Apollo...</td>\n",
       "      <td>https://pocket-image-cache.com/direct?url=http...</td>\n",
       "      <td>{'logo': 'https://www.smallcase.com/images/new...</td>\n",
       "      <td>[{'sid': 'APLH', 'initialPrice': 1119.2}]</td>\n",
       "      <td>[5ba1366bf9688439d5a7d20f]</td>\n",
       "    </tr>\n",
       "  </tbody>\n",
       "</table>\n",
       "</div>"
      ],
      "text/plain": [
       "         date                                              title  \\\n",
       "0  2018-02-01  Budget 2018: Have the headroom to reduce corpo...   \n",
       "1  2018-02-15                Apollo Hospitals Q3 net down 7.40 %   \n",
       "2  2018-06-06  Hold  Apollo Hospitals Enterprise, target Rs  ...   \n",
       "3  2018-07-06  Apollo acquires 50% stake in Lucknow’s Medics ...   \n",
       "4  2018-09-18       Apollo Hospitals celebrates 35th anniversary   \n",
       "\n",
       "      feed_type                                               link  \\\n",
       "0  news-article  http://www.moneycontrol.com/news/business/econ...   \n",
       "1  news-article  https://www.thehindubusinessline.com/companies...   \n",
       "2  news-article  https://economictimes.indiatimes.com/markets/s...   \n",
       "3  news-article  https://www.thehindubusinessline.com/news/apol...   \n",
       "4  news-article  https://www.thehindubusinessline.com/companies...   \n",
       "\n",
       "                                         description  \\\n",
       "0  In an interview with CNBC-TV18, Shobana Kamine...   \n",
       "1  Apollo Hospitals Enterprise today reported a 7...   \n",
       "2  Hold  Apollo Hospitals Enterprise Ltd.  at a p...   \n",
       "3  Apollo Hospitals Enterprise Ltd has acquired a...   \n",
       "4  Apollo Hospitals Chennai, a flagship of Apollo...   \n",
       "\n",
       "                                               image  \\\n",
       "0  https://pocket-image-cache.com/direct?url=http...   \n",
       "1  https://pocket-image-cache.com/direct?url=http...   \n",
       "2  https://pocket-image-cache.com/direct?url=http...   \n",
       "3  https://pocket-image-cache.com/direct?url=http...   \n",
       "4  https://pocket-image-cache.com/direct?url=http...   \n",
       "\n",
       "                                           publisher  \\\n",
       "0  {'logo': 'https://www.smallcase.com/images/new...   \n",
       "1  {'logo': 'https://www.smallcase.com/images/new...   \n",
       "2  {'logo': 'https://www.smallcase.com/images/new...   \n",
       "3  {'logo': 'https://www.smallcase.com/images/new...   \n",
       "4  {'logo': 'https://www.smallcase.com/images/new...   \n",
       "\n",
       "                                              stocks  \\\n",
       "0  [{'sid': 'APLH', 'initialPrice': 1162.8}, {'si...   \n",
       "1          [{'sid': 'APLH', 'initialPrice': 1191.8}]   \n",
       "2           [{'sid': 'APLH', 'initialPrice': 939.8}]   \n",
       "3         [{'sid': 'APLH', 'initialPrice': 1048.15}]   \n",
       "4          [{'sid': 'APLH', 'initialPrice': 1119.2}]   \n",
       "\n",
       "                          _id  \n",
       "0  [5a72c2219943eb6e6035d4d7]  \n",
       "1  [5a853724824da4795f24f1be]  \n",
       "2  [5b1763f65d4e3c6a8fd6c9d3]  \n",
       "3  [5b3ef070c2ec3731b613fee6]  \n",
       "4  [5ba1366bf9688439d5a7d20f]  "
      ]
     },
     "execution_count": 51,
     "metadata": {},
     "output_type": "execute_result"
    }
   ],
   "source": [
    "grouped_df.head()"
   ]
  },
  {
   "cell_type": "code",
   "execution_count": 52,
   "metadata": {},
   "outputs": [
    {
     "data": {
      "text/plain": [
       "474"
      ]
     },
     "execution_count": 52,
     "metadata": {},
     "output_type": "execute_result"
    }
   ],
   "source": [
    "len(grouped_df)"
   ]
  },
  {
   "cell_type": "code",
   "execution_count": 53,
   "metadata": {},
   "outputs": [],
   "source": [
    "grouped_df.to_csv(\"APOLLOHOSP_grouped.csv\",index=False)"
   ]
  },
  {
   "cell_type": "code",
   "execution_count": 54,
   "metadata": {},
   "outputs": [],
   "source": [
    "df=pd.read_csv(\"TATA.csv\")"
   ]
  },
  {
   "cell_type": "code",
   "execution_count": 55,
   "metadata": {},
   "outputs": [
    {
     "data": {
      "text/plain": [
       "15568"
      ]
     },
     "execution_count": 55,
     "metadata": {},
     "output_type": "execute_result"
    }
   ],
   "source": [
    "len(df)"
   ]
  },
  {
   "cell_type": "code",
   "execution_count": 56,
   "metadata": {},
   "outputs": [],
   "source": [
    "df['date'] = pd.to_datetime(df['date']).dt.date\n",
    "\n",
    "# Step 2: Define a safe join function that handles non-string values\n",
    "def safe_join(series):\n",
    "    return ' | '.join(series.dropna().astype(str))\n",
    "\n",
    "# Step 3: Group by 'date' and concatenate text columns\n",
    "grouped_df = df.groupby('date').agg({\n",
    "    'title': safe_join,         # Concatenate titles with separator\n",
    "    'feed_type': safe_join,     # Concatenate feed_type with separator\n",
    "    'link': safe_join,          # Concatenate links\n",
    "    'description': safe_join,   # Concatenate descriptions\n",
    "    'image': 'first',           # Take the first image (or handle as needed)\n",
    "    'publisher': safe_join,     # Concatenate publishers\n",
    "    'stocks': safe_join,        # Concatenate stocks\n",
    "    '_id': list                 # Keep _id as a list (if needed)\n",
    "}).reset_index()\n"
   ]
  },
  {
   "cell_type": "code",
   "execution_count": 58,
   "metadata": {},
   "outputs": [
    {
     "data": {
      "text/plain": [
       "1905"
      ]
     },
     "execution_count": 58,
     "metadata": {},
     "output_type": "execute_result"
    }
   ],
   "source": [
    "len(grouped_df)"
   ]
  },
  {
   "cell_type": "code",
   "execution_count": 62,
   "metadata": {},
   "outputs": [],
   "source": [
    "grouped_df.to_csv(\"TATA_grouped.csv\",index=False)"
   ]
  },
  {
   "cell_type": "code",
   "execution_count": 66,
   "metadata": {},
   "outputs": [
    {
     "data": {
      "text/plain": [
       "['Stocks like Hindustan Zinc, Hindalco, Jindal Steel, JSW Steel and Tata Steel gained over 1 percent from previous close.',\n",
       " 'Asian Paints, SBI, Tata Motors, HUL and Maruti Suzuki are top gainers while ONGC, Axis Bank, M&M, Bajaj Auto and Hero MotoCorp are major losers in the Sensex.',\n",
       " 'Mitesh Thacker of miteshthacker.com is of the view that one can buy Pidilite Industries, REC, Tata Motors and HSIL.']"
      ]
     },
     "execution_count": 66,
     "metadata": {},
     "output_type": "execute_result"
    }
   ],
   "source": [
    "grouped_df.iloc[0,4].split(\" | \")"
   ]
  },
  {
   "cell_type": "code",
   "execution_count": 65,
   "metadata": {},
   "outputs": [
    {
     "data": {
      "text/html": [
       "<div>\n",
       "<style scoped>\n",
       "    .dataframe tbody tr th:only-of-type {\n",
       "        vertical-align: middle;\n",
       "    }\n",
       "\n",
       "    .dataframe tbody tr th {\n",
       "        vertical-align: top;\n",
       "    }\n",
       "\n",
       "    .dataframe thead th {\n",
       "        text-align: right;\n",
       "    }\n",
       "</style>\n",
       "<table border=\"1\" class=\"dataframe\">\n",
       "  <thead>\n",
       "    <tr style=\"text-align: right;\">\n",
       "      <th></th>\n",
       "      <th>date</th>\n",
       "      <th>title</th>\n",
       "      <th>feed_type</th>\n",
       "      <th>link</th>\n",
       "      <th>description</th>\n",
       "      <th>image</th>\n",
       "      <th>publisher</th>\n",
       "      <th>stocks</th>\n",
       "      <th>_id</th>\n",
       "    </tr>\n",
       "  </thead>\n",
       "  <tbody>\n",
       "    <tr>\n",
       "      <th>0</th>\n",
       "      <td>2016-10-05</td>\n",
       "      <td>Steel stocks rally as govt extends MIP on 66 s...</td>\n",
       "      <td>news-article | news-article | news-article</td>\n",
       "      <td>https://www.moneycontrol.com/news/business/sto...</td>\n",
       "      <td>Stocks like Hindustan Zinc, Hindalco, Jindal S...</td>\n",
       "      <td>https://pocket-image-cache.com/direct?url=http...</td>\n",
       "      <td>{'logo': 'https://assets.tickertape.in/images/...</td>\n",
       "      <td>[{'sid': 'HALC'}, {'sid': 'HZNC'}, {'sid': 'JS...</td>\n",
       "      <td>[5f0835a4d0ccf9eb28dfd742, 5f08359ad0ccf9eb28d...</td>\n",
       "    </tr>\n",
       "    <tr>\n",
       "      <th>1</th>\n",
       "      <td>2017-12-11</td>\n",
       "      <td>BSE Midcap index hits new high | Thyssenkrupp ...</td>\n",
       "      <td>news-article | news-article | news-article</td>\n",
       "      <td>http://www.business-standard.com/article/marke...</td>\n",
       "      <td>Wockhdart, M&amp;M Financial Services, Tata Commun...</td>\n",
       "      <td>https://pocket-image-cache.com/direct?url=http...</td>\n",
       "      <td>{'logo': 'https://www.smallcase.com/images/new...</td>\n",
       "      <td>[{'sid': 'ABB'}, {'sid': 'DALA'}, {'sid': 'MMF...</td>\n",
       "      <td>[5a2e7a727d201c451d95e61a, 5a2e7b327d201c451d9...</td>\n",
       "    </tr>\n",
       "    <tr>\n",
       "      <th>2</th>\n",
       "      <td>2017-12-14</td>\n",
       "      <td>Tata Motors delivers first batch of Tigor EVs ...</td>\n",
       "      <td>news-article</td>\n",
       "      <td>https://economictimes.indiatimes.com/industry/...</td>\n",
       "      <td>Guenter Butschek, CEO &amp; MD, Tata Motors handed...</td>\n",
       "      <td>https://pocket-image-cache.com/direct?url=http...</td>\n",
       "      <td>{'logo': 'https://www.smallcase.com/images/new...</td>\n",
       "      <td>[{'sid': 'TAMO', 'initialPrice': 401.95}, {'si...</td>\n",
       "      <td>[5a326f03cc8e5e3962e5c896]</td>\n",
       "    </tr>\n",
       "    <tr>\n",
       "      <th>3</th>\n",
       "      <td>2017-12-15</td>\n",
       "      <td>Tata Motors is driving Ace on the millennial t...</td>\n",
       "      <td>news-article</td>\n",
       "      <td>http://www.business-standard.com/article/compa...</td>\n",
       "      <td>How Tata Motors is leveraging its 12-year expe...</td>\n",
       "      <td>https://pocket-image-cache.com/direct?url=http...</td>\n",
       "      <td>{'logo': 'https://www.smallcase.com/images/new...</td>\n",
       "      <td>[{'sid': 'TAMO', 'initialPrice': 402.4}, {'sid...</td>\n",
       "      <td>[5a33c142eae98f5e48db1701]</td>\n",
       "    </tr>\n",
       "    <tr>\n",
       "      <th>4</th>\n",
       "      <td>2017-12-16</td>\n",
       "      <td>‘System error’ hits BEST’s 750 MW power tender</td>\n",
       "      <td>news-article</td>\n",
       "      <td>http://www.thehindubusinessline.com/news/syste...</td>\n",
       "      <td>Tata Power likely to benefit</td>\n",
       "      <td>https://pocket-image-cache.com/direct?url=http...</td>\n",
       "      <td>{'logo': 'https://www.smallcase.com/images/new...</td>\n",
       "      <td>[{'sid': 'TTPW', 'initialPrice': 90.5}]</td>\n",
       "      <td>[5a3512a4bc4a61753a29f4ac]</td>\n",
       "    </tr>\n",
       "  </tbody>\n",
       "</table>\n",
       "</div>"
      ],
      "text/plain": [
       "         date                                              title  \\\n",
       "0  2016-10-05  Steel stocks rally as govt extends MIP on 66 s...   \n",
       "1  2017-12-11  BSE Midcap index hits new high | Thyssenkrupp ...   \n",
       "2  2017-12-14  Tata Motors delivers first batch of Tigor EVs ...   \n",
       "3  2017-12-15  Tata Motors is driving Ace on the millennial t...   \n",
       "4  2017-12-16     ‘System error’ hits BEST’s 750 MW power tender   \n",
       "\n",
       "                                    feed_type  \\\n",
       "0  news-article | news-article | news-article   \n",
       "1  news-article | news-article | news-article   \n",
       "2                                news-article   \n",
       "3                                news-article   \n",
       "4                                news-article   \n",
       "\n",
       "                                                link  \\\n",
       "0  https://www.moneycontrol.com/news/business/sto...   \n",
       "1  http://www.business-standard.com/article/marke...   \n",
       "2  https://economictimes.indiatimes.com/industry/...   \n",
       "3  http://www.business-standard.com/article/compa...   \n",
       "4  http://www.thehindubusinessline.com/news/syste...   \n",
       "\n",
       "                                         description  \\\n",
       "0  Stocks like Hindustan Zinc, Hindalco, Jindal S...   \n",
       "1  Wockhdart, M&M Financial Services, Tata Commun...   \n",
       "2  Guenter Butschek, CEO & MD, Tata Motors handed...   \n",
       "3  How Tata Motors is leveraging its 12-year expe...   \n",
       "4                       Tata Power likely to benefit   \n",
       "\n",
       "                                               image  \\\n",
       "0  https://pocket-image-cache.com/direct?url=http...   \n",
       "1  https://pocket-image-cache.com/direct?url=http...   \n",
       "2  https://pocket-image-cache.com/direct?url=http...   \n",
       "3  https://pocket-image-cache.com/direct?url=http...   \n",
       "4  https://pocket-image-cache.com/direct?url=http...   \n",
       "\n",
       "                                           publisher  \\\n",
       "0  {'logo': 'https://assets.tickertape.in/images/...   \n",
       "1  {'logo': 'https://www.smallcase.com/images/new...   \n",
       "2  {'logo': 'https://www.smallcase.com/images/new...   \n",
       "3  {'logo': 'https://www.smallcase.com/images/new...   \n",
       "4  {'logo': 'https://www.smallcase.com/images/new...   \n",
       "\n",
       "                                              stocks  \\\n",
       "0  [{'sid': 'HALC'}, {'sid': 'HZNC'}, {'sid': 'JS...   \n",
       "1  [{'sid': 'ABB'}, {'sid': 'DALA'}, {'sid': 'MMF...   \n",
       "2  [{'sid': 'TAMO', 'initialPrice': 401.95}, {'si...   \n",
       "3  [{'sid': 'TAMO', 'initialPrice': 402.4}, {'sid...   \n",
       "4            [{'sid': 'TTPW', 'initialPrice': 90.5}]   \n",
       "\n",
       "                                                 _id  \n",
       "0  [5f0835a4d0ccf9eb28dfd742, 5f08359ad0ccf9eb28d...  \n",
       "1  [5a2e7a727d201c451d95e61a, 5a2e7b327d201c451d9...  \n",
       "2                         [5a326f03cc8e5e3962e5c896]  \n",
       "3                         [5a33c142eae98f5e48db1701]  \n",
       "4                         [5a3512a4bc4a61753a29f4ac]  "
      ]
     },
     "execution_count": 65,
     "metadata": {},
     "output_type": "execute_result"
    }
   ],
   "source": [
    "grouped_df.head()"
   ]
  },
  {
   "cell_type": "code",
   "execution_count": null,
   "metadata": {},
   "outputs": [],
   "source": []
  }
 ],
 "metadata": {
  "kernelspec": {
   "display_name": "nlp",
   "language": "python",
   "name": "python3"
  },
  "language_info": {
   "codemirror_mode": {
    "name": "ipython",
    "version": 3
   },
   "file_extension": ".py",
   "mimetype": "text/x-python",
   "name": "python",
   "nbconvert_exporter": "python",
   "pygments_lexer": "ipython3",
   "version": "3.12.3"
  }
 },
 "nbformat": 4,
 "nbformat_minor": 2
}
